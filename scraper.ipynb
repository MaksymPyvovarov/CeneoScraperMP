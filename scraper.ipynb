{
 "cells": [
  {
   "attachments": {},
   "cell_type": "markdown",
   "metadata": {},
   "source": [
    "# Ceneo Scraper"
   ]
  },
  {
   "attachments": {},
   "cell_type": "markdown",
   "metadata": {},
   "source": [
    "## Components of single opinion\n",
    "\n",
    "|Component|Selector|Key|\n",
    "|---------|--------|--------|\n",
    "|opinion ID|[\"data-entry-id\"]|opinion_id|\n",
    "|opinion’s author|span.user-post__author-name|author|\n",
    "|author’s recommendation|span.user-post__author-recomendation > em|recommendation|\n",
    "|score expressed in number of stars|span.user-post__score-count|score|\n",
    "|opinion’s content|div.user-post__text|content|\n",
    "|list of product advantages|div.review-feature__title--positives ~ div.review-feature_item|pros|\n",
    "|list of product disadvantages|div.review-feature__title--negatives ~ div.review-feature_item|cons|\n",
    "|how many users think that opinion was helpful|button.vote-yes > span|helpful|\n",
    "|how many users think that opinion was unhelpful|span[id^=\"votes-no]|unhelpful|\n",
    "|publishing date|span.user-post__published > time:nth-child(1)[\"datetime\"]|publish_date|\n",
    "|purchase date|span.user-post__published > time:nth-child(2)[\"datetime\"]|purchase_date|"
   ]
  },
  {
   "attachments": {},
   "cell_type": "markdown",
   "metadata": {},
   "source": [
    "## Loading libraries"
   ]
  },
  {
   "cell_type": "code",
   "execution_count": 116,
   "metadata": {},
   "outputs": [],
   "source": [
    "import os\n",
    "import json\n",
    "import requests\n",
    "from bs4 import BeautifulSoup\n",
    "from deep_translator import GoogleTranslator"
   ]
  },
  {
   "attachments": {},
   "cell_type": "markdown",
   "metadata": {},
   "source": [
    "## Structure of single opinion"
   ]
  },
  {
   "cell_type": "code",
   "execution_count": 117,
   "metadata": {},
   "outputs": [],
   "source": [
    "selectors = {\n",
    "\"opinion_id\" : [None, \"data-entry-id\"],\n",
    "\"author\" : [\"span.user-post__author-name\"],\n",
    "\"recommendation\" : [\"span.user-post__author-recomendation > em\"],\n",
    "\"score\" : [\"span.user-post__score-count\"],\n",
    "\"content\" : [\"div.user-post__text\"],\n",
    "\"pros\" : [\"div.review-feature__title--positives ~ div.review-feature_item\", None, True,],\n",
    "\"cons\" : [\"div.review-feature__title--negatives ~ div.review-feature_item\", None, True,],\n",
    "\"helpful\" : [\"button.vote-yes > span\"],\n",
    "\"unhelpful\" : [\"button.vote-no > span\"],\n",
    "\"publish_date\" : [\"span.user-post__published > time:nth-child(1)\", \"datetime\"],\n",
    "\"purchase_date\" : [\"span.user-post__published > time:nth-child(2)\", \"datetime\"],\n",
    "}"
   ]
  },
  {
   "attachments": {},
   "cell_type": "markdown",
   "metadata": {},
   "source": [
    "## Transformations"
   ]
  },
  {
   "cell_type": "code",
   "execution_count": 118,
   "metadata": {},
   "outputs": [],
   "source": [
    "transformations = {\n",
    "    \"recommendation\" : recommend,\n",
    "    \"score\" : rate,\n",
    "    \"helpful\" : int,\n",
    "    \"unhelpful\" : int,\n",
    "    \"content\" : translate,\n",
    "    \"pros\" : translate,\n",
    "    \"cons\" : translate,\n",
    "}"
   ]
  },
  {
   "attachments": {},
   "cell_type": "markdown",
   "metadata": {},
   "source": [
    "## Transformation functions"
   ]
  },
  {
   "cell_type": "code",
   "execution_count": 119,
   "metadata": {},
   "outputs": [],
   "source": [
    "def rate(score):\n",
    "    score = score.split(\"/\")\n",
    "    return float(score[0].replace(\",\", \".\"))/float(score[1])\n",
    "def recommend(recomendation):\n",
    "    return True if recomendation == \"Polecam\" else False if recomendation == \"Nie polecam\" else None\n"
   ]
  },
  {
   "cell_type": "markdown",
   "metadata": {},
   "source": [
    "## Translation"
   ]
  },
  {
   "cell_type": "code",
   "execution_count": 120,
   "metadata": {},
   "outputs": [],
   "source": [
    "def translate(text, from_lang = \"pl\",  to_lang = \"en\"):\n",
    "    if text:\n",
    "        if isinstance(text, list):\n",
    "            return {\n",
    "                from_lang: text,\n",
    "                to_lang: [GoogleTranslator(source=from_lang, target=to_lang).translate(t) for t in text]\n",
    "            }\n",
    "        return {\n",
    "            from_lang: text,\n",
    "            to_lang: GoogleTranslator(source=from_lang, target=to_lang).translate(text)\n",
    "        }\n",
    "    return None"
   ]
  },
  {
   "attachments": {},
   "cell_type": "markdown",
   "metadata": {},
   "source": [
    "## Function of extract HTML"
   ]
  },
  {
   "cell_type": "code",
   "execution_count": 121,
   "metadata": {},
   "outputs": [],
   "source": [
    "def extract(ancestor,selector,attribute=None,return_list=False): \n",
    "    if return_list: \n",
    "        if attribute: \n",
    "            return [tag[attribute] for tag in ancestor.select(selector)] \n",
    "        return [tag.get_text().strip() for tag in ancestor.select(selector)] \n",
    "    if selector: \n",
    "        if attribute: \n",
    "            try: \n",
    "                return ancestor.select_one(selector)[attribute] \n",
    "            except  TypeError: \n",
    "                return None \n",
    "        try: \n",
    "            return ancestor.select_one(selector).get_text().strip() \n",
    "        except AttributeError: \n",
    "            return None \n",
    "    if attribute: \n",
    "        return ancestor[attribute] \n",
    "    return None\n"
   ]
  },
  {
   "attachments": {},
   "cell_type": "markdown",
   "metadata": {},
   "source": [
    "## URL address for first page with opinions about products"
   ]
  },
  {
   "cell_type": "code",
   "execution_count": 122,
   "metadata": {},
   "outputs": [],
   "source": [
    "#product_id = \"44958016\"\n",
    "product_id = input(\"Please provide Ceneo.pl product code\")\n",
    "url = f\"https://www.ceneo.pl/{product_id}#tab=reviews\"\n",
    "\n"
   ]
  },
  {
   "attachments": {},
   "cell_type": "markdown",
   "metadata": {},
   "source": [
    "## Extracting all opinions from HTML code"
   ]
  },
  {
   "cell_type": "code",
   "execution_count": 123,
   "metadata": {},
   "outputs": [
    {
     "name": "stdout",
     "output_type": "stream",
     "text": [
      "https://www.ceneo.pl/44958016#tab=reviews\n",
      "True\n",
      "0.9\n",
      "1\n",
      "7\n",
      "{'pl': 'mama będzie na pewno zadowolona jak dla starszej osoby myślę że lepszy i droższy sprzęt nie jest potrzebny co do trwałości urządzenia nie mogę się na obecną chwilę wypowiedzieć', 'en': 'My mother will definitely be happy as it is for an older person, I think that better and more expensive equipment is not necessary, I cannot comment on the durability of the device at the moment.'}\n",
      "None\n",
      "None\n",
      "True\n",
      "1.0\n",
      "0\n",
      "0\n",
      "{'pl': 'Znam firmę Esperanza ,co do samej maszynki jeszcze nie używałam', 'en': \"I know the Esperanza company, but I haven't used the razor itself yet\"}\n",
      "None\n",
      "None\n",
      "True\n",
      "0.8\n",
      "2\n",
      "0\n",
      "{'pl': 'Prosty w użytkowaniu, estetyczny i jakość adekwatna do ceny.', 'en': 'Easy to use, aesthetic and quality adequate to the price.'}\n",
      "None\n",
      "None\n",
      "True\n",
      "0.8\n",
      "0\n",
      "0\n",
      "{'pl': 'Ładnie wygląda, trochę mniej jeśli chodzi o pracę maszyny, ogólnie dobrze 👍', 'en': 'It looks nice, a little less when it comes to the operation of the machine, overall good 👍'}\n",
      "None\n",
      "None\n",
      "True\n",
      "0.8\n",
      "1\n",
      "4\n",
      "{'pl': 'Poza główną pracą urządzenie nie mam innych uwag', 'en': 'Apart from the main operation of the device, I have no other comments'}\n",
      "None\n",
      "None\n",
      "True\n",
      "1.0\n",
      "0\n",
      "1\n",
      "{'pl': 'Polecam', 'en': 'I recommend'}\n",
      "None\n",
      "None\n",
      "True\n",
      "0.8\n",
      "0\n",
      "0\n",
      "{'pl': 'Przydałby się zestaw do tarkowania warzyw.', 'en': 'A set for grating vegetables would be useful.'}\n",
      "None\n",
      "None\n",
      "False\n",
      "0.1\n",
      "3\n",
      "3\n",
      "{'pl': 'Zapycha się prawdopodobnie przez niestabilne mocowanie wydostaje się smar na mięso przez co poszło do kosza pierwsze zdziwienie czemu jest mięso koloru siwego sprawdzam opinie niżej już wiem co to było nie polecam strata pieniądzy! Lepiej kupić gotowe i nie tracić pieniędzy na ten wynalazek. Pozdrawiam', 'en': \"It is probably clogged due to unstable mounting, grease is leaking onto the meat, which is why it went to the trash. The first surprise is why is the meat gray in color, I check the opinions below and I already know what it was, I do not recommend it, waste of money! It's better to buy ready-made and not waste money on this invention. Regards\"}\n",
      "None\n",
      "None\n",
      "False\n",
      "0.3\n",
      "1\n",
      "1\n",
      "{'pl': 'Kupiłam w kauflandzie cena 99 zł pomyślałam że za taką cenę do moich potrzeb bedzie ok . Przepuściłam ziemniaki i cały zmielony farsz musialam wyrzucić, gdyż nagle zaczął leciec smar. Rozkręciłam wszystkie części  wymyłam ale w środku nie było śladu po smarze. Za kilka dni ponownie spróbowałam i niestety po raz kolejny wszystko w koszu wyladowało . Wkurzyłam się zapakowałam maszynkę do pudełka wzięłam paragon i pojechałam oddać zwrócili mi pieniądze bez problemu dołożyłam trochę i kupiłam w innym sklepie maszynkę do mięsa razem szatkownicą. Teraz jestem zadowolona z zakupu a tej maszynki esperanza nie polecam', 'en': 'I bought it in a Kaufland store for PLN 99, I thought that for this price it would be ok for my needs. I skipped the potatoes and had to throw away all the ground stuffing because suddenly the grease started leaking out. I disassembled all the parts and washed them, but there was no trace of grease inside. In a few days I tried again and unfortunately everything ended up in the trash again. I got angry, packed the mincer in a box, took the receipt and went to return it, they refunded my money without any problems, I added some money and bought a meat grinder and a shredder in another store. Now I am satisfied with the purchase and I do not recommend this Esperanza razor'}\n",
      "None\n",
      "None\n",
      "False\n",
      "0.5\n",
      "1\n",
      "1\n",
      "{'pl': 'Produkt tzw. klasy ekonomicznej. Robi, co ma robić, ale bez wodotrysków. Dość toporne wykończenie plastików, przypomina raczej chińską zabawkę.', 'en': \"The so-called product economy class. It does what it's supposed to do, but without the bells and whistles. The finish of the plastics is quite crude, it rather resembles a Chinese toy.\"}\n",
      "None\n",
      "None\n",
      "https://www.ceneo.pl//44958016/opinie-2\n"
     ]
    }
   ],
   "source": [
    "all_opinions = []\n",
    "while(url):\n",
    "    print(url)\n",
    "    response = requests.get(url)\n",
    "    page_dom = BeautifulSoup(response.text, \"html.parser\")\n",
    "    opinions = page_dom.select(\"div.js_product-review\")\n",
    "    for opinion in opinions:    \n",
    "        single_opinion = {\n",
    "            key: extract(opinion, *value)\n",
    "                for key, value in selectors.items()\n",
    "        }\n",
    "        for key, value in transformations.items():\n",
    "            single_opinion[key] = value(single_opinion[key])\n",
    "            print(single_opinion[key])\n",
    "        all_opinions.append(single_opinion)\n",
    "    try:\n",
    "        url = \"https://www.ceneo.pl/\" + extract(page_dom, \"a.pagination__next\", \"href\")\n",
    "    except TypeError:\n",
    "        url = None"
   ]
  },
  {
   "attachments": {},
   "cell_type": "markdown",
   "metadata": {},
   "source": [
    "## Saving all opinions to JSON file"
   ]
  },
  {
   "cell_type": "code",
   "execution_count": 124,
   "metadata": {},
   "outputs": [],
   "source": [
    "if not os.path.exists(\"opinions\"):\n",
    "    os.mkdir(\"opinions\")\n",
    "jf = open(f\"opinions/{product_id}.json\", \"w\", encoding=\"UTF-8\")\n",
    "json.dump(all_opinions, jf, indent=4, ensure_ascii=False)\n",
    "jf.close()\n"
   ]
  }
 ],
 "metadata": {
  "kernelspec": {
   "display_name": ".venv",
   "language": "python",
   "name": "python3"
  },
  "language_info": {
   "codemirror_mode": {
    "name": "ipython",
    "version": 3
   },
   "file_extension": ".py",
   "mimetype": "text/x-python",
   "name": "python",
   "nbconvert_exporter": "python",
   "pygments_lexer": "ipython3",
   "version": "3.11.4"
  },
  "orig_nbformat": 4
 },
 "nbformat": 4,
 "nbformat_minor": 2
}
