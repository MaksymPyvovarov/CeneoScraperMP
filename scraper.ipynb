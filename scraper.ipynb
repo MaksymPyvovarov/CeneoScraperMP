{
 "cells": [
  {
   "attachments": {},
   "cell_type": "markdown",
   "metadata": {},
   "source": [
    "# Ceneo Scraper"
   ]
  },
  {
   "attachments": {},
   "cell_type": "markdown",
   "metadata": {},
   "source": [
    "## Components of single opinion\n",
    "\n",
    "|Component|Selector|Variable|\n",
    "|---------|--------|--------|\n",
    "|opinion ID|[\"data-entry-id\"]|opinion_id|\n",
    "|opinion’s author|span.user-post__author-name|author|\n",
    "|author’s recommendation|span.user-post__author-recomendation > em|recommendation|\n",
    "|score expressed in number of stars|span.user-post__score-count|score|\n",
    "|opinion’s content|div.user-post__text|content|\n",
    "|list of product advantages|div.review-feature__title--positives ~ div.review-feature_item|pros|\n",
    "|list of product disadvantages|div.review-feature__title--negatives ~ div.review-feature_item|cons|\n",
    "|how many users think that opinion was helpful|button.vote-yes > span|helpful|\n",
    "|how many users think that opinion was unhelpful|span[id^=\"votes-no]|unhelpful|\n",
    "|publishing date|span.user-post__published > time:nth-child(1)[\"datetime\"]|publish_date|\n",
    "|purchase date|span.user-post__published > time:nth-child(2)[\"datetime\"]|purchase_date|"
   ]
  },
  {
   "attachments": {},
   "cell_type": "markdown",
   "metadata": {},
   "source": [
    "## Structure of single opinion"
   ]
  },
  {
   "cell_type": "code",
   "execution_count": null,
   "metadata": {},
   "outputs": [],
   "source": [
    "selectors = {\n",
    "\"opinion_id\" : [None, \"data-entry-id\"],\n",
    "\"author\" : [\"span.user-post__author-name\"],\n",
    "\"recommendation\" : [\"span.user-post__author-recomendation > em\"],\n",
    "\"score\" : [\"span.user-post__score-count\"],\n",
    "\"content\" : [\"div.user-post__text\"],\n",
    "\"pros\" : [\"div.review-feature__title--positives ~ div.review-feature_item\", None, True],\n",
    "\"cons\" : [\"div.review-feature__title--negatives ~ div.review-feature_item\", None, True],\n",
    "\"helpful\" : [\"button.vote-yes > span\"],\n",
    "\"unhelpful\" : [\"button.vote-no > span\"],\n",
    "\"publish_date\" : [\"span.user-post__published > time:nth-child(1)\", \"datetime\"],\n",
    "\"purchase_date\" : [\"span.user-post__published > time:nth-child(2)\", \"datetime\"],\n",
    "}"
   ]
  },
  {
   "attachments": {},
   "cell_type": "markdown",
   "metadata": {},
   "source": [
    "## Loading libraries"
   ]
  },
  {
   "cell_type": "code",
   "execution_count": null,
   "metadata": {},
   "outputs": [],
   "source": [
    "import requests\n",
    "from bs4 import BeautifulSoup"
   ]
  },
  {
   "attachments": {},
   "cell_type": "markdown",
   "metadata": {},
   "source": [
    "## Function of extract HTML"
   ]
  },
  {
   "cell_type": "code",
   "execution_count": null,
   "metadata": {},
   "outputs": [],
   "source": [
    "def extract(ancestor,selector,attribute=None,return_list=False): \n",
    "    if return_list: \n",
    "        if attribute: \n",
    "            return [tag[attribute] for tag in ancestor.select(selector)] \n",
    "        return [tag.get_text().strip() for tag in ancestor.select(selector)] \n",
    "    if selector: \n",
    "        if attribute: \n",
    "            try: \n",
    "                return ancestor.select_one(selector)[attribute] \n",
    "            except  TypeError: \n",
    "                return None \n",
    "        try: \n",
    "            return ancestor.select_one(selector).get_text().strip() \n",
    "        except AttributeError: \n",
    "            return None \n",
    "    if attribute: \n",
    "        return ancestor[attribute] \n",
    "    return None\n"
   ]
  },
  {
   "attachments": {},
   "cell_type": "markdown",
   "metadata": {},
   "source": [
    "## Sending request to Ceneo.pl server"
   ]
  },
  {
   "cell_type": "code",
   "execution_count": null,
   "metadata": {},
   "outputs": [],
   "source": [
    "product_id = \"44958016\"\n",
    "url = f\"https://www.ceneo.pl/{product_id}#tab=reviews\"\n",
    "response = requests.get(url)\n"
   ]
  },
  {
   "attachments": {},
   "cell_type": "markdown",
   "metadata": {},
   "source": [
    "## Extracting opinions from HTML code"
   ]
  },
  {
   "cell_type": "code",
   "execution_count": null,
   "metadata": {},
   "outputs": [],
   "source": [
    "page_dom = BeautifulSoup(response.text, \"html.parser\")\n",
    "opinions = page_dom.select(\"div.js_product-review\")\n",
    "opinion = page_dom.select_one(\"div.js_product-review\")\n",
    "print(type(page_dom))\n",
    "print(type(opinions))\n",
    "print(type(opinion))\n",
    "print(opinion)"
   ]
  },
  {
   "attachments": {},
   "cell_type": "markdown",
   "metadata": {},
   "source": [
    "## Extracting components for single opinion"
   ]
  },
  {
   "cell_type": "code",
   "execution_count": null,
   "metadata": {},
   "outputs": [],
   "source": [
    "single_opinion = {\n",
    "    key: extract(opinion, *value)\n",
    "        for key, value in selectors.items()\n",
    "}"
   ]
  }
 ],
 "metadata": {
  "kernelspec": {
   "display_name": ".venv",
   "language": "python",
   "name": "python3"
  },
  "language_info": {
   "codemirror_mode": {
    "name": "ipython",
    "version": 3
   },
   "file_extension": ".py",
   "mimetype": "text/x-python",
   "name": "python",
   "nbconvert_exporter": "python",
   "pygments_lexer": "ipython3",
   "version": "3.11.4"
  },
  "orig_nbformat": 4
 },
 "nbformat": 4,
 "nbformat_minor": 2
}
