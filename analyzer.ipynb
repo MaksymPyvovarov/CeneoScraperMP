{
 "cells": [
  {
   "cell_type": "markdown",
   "metadata": {},
   "source": [
    "## Ceneo Analyzer"
   ]
  },
  {
   "cell_type": "markdown",
   "metadata": {},
   "source": [
    "## Loading libraries"
   ]
  },
  {
   "cell_type": "code",
   "execution_count": 60,
   "metadata": {},
   "outputs": [],
   "source": [
    "import os\n",
    "import pandas as pd\n",
    "from matplotlib import pyplot as plt"
   ]
  },
  {
   "cell_type": "markdown",
   "metadata": {},
   "source": [
    "## Listing codes for all products for which opinions have been extracted"
   ]
  },
  {
   "cell_type": "code",
   "execution_count": 33,
   "metadata": {},
   "outputs": [
    {
     "name": "stdout",
     "output_type": "stream",
     "text": [
      "44958016\n",
      "55787406\n"
     ]
    }
   ],
   "source": [
    "print(*[filename.split(\".\")[0] for filename in os.listdir(\"opinions\")], sep=\"\\n\")"
   ]
  },
  {
   "cell_type": "markdown",
   "metadata": {},
   "source": [
    "## Specifying opinions about which product are to be analyzed"
   ]
  },
  {
   "cell_type": "code",
   "execution_count": 34,
   "metadata": {},
   "outputs": [],
   "source": [
    "product_id = input(\"Please provide Ceneo.pl product code\")"
   ]
  },
  {
   "cell_type": "markdown",
   "metadata": {},
   "source": [
    "## Importing opinions from JSON file to pandas.Dataframe object"
   ]
  },
  {
   "cell_type": "code",
   "execution_count": 35,
   "metadata": {},
   "outputs": [],
   "source": [
    "opinions = pd.read_json(f\"opinions/{product_id}.json\")"
   ]
  },
  {
   "cell_type": "code",
   "execution_count": 36,
   "metadata": {},
   "outputs": [
    {
     "data": {
      "text/html": [
       "<div>\n",
       "<style scoped>\n",
       "    .dataframe tbody tr th:only-of-type {\n",
       "        vertical-align: middle;\n",
       "    }\n",
       "\n",
       "    .dataframe tbody tr th {\n",
       "        vertical-align: top;\n",
       "    }\n",
       "\n",
       "    .dataframe thead th {\n",
       "        text-align: right;\n",
       "    }\n",
       "</style>\n",
       "<table border=\"1\" class=\"dataframe\">\n",
       "  <thead>\n",
       "    <tr style=\"text-align: right;\">\n",
       "      <th></th>\n",
       "      <th>opinion_id</th>\n",
       "      <th>author</th>\n",
       "      <th>recommendation</th>\n",
       "      <th>score</th>\n",
       "      <th>content</th>\n",
       "      <th>pros</th>\n",
       "      <th>cons</th>\n",
       "      <th>helpful</th>\n",
       "      <th>unhelpful</th>\n",
       "      <th>publish_date</th>\n",
       "      <th>purchase_date</th>\n",
       "    </tr>\n",
       "  </thead>\n",
       "  <tbody>\n",
       "    <tr>\n",
       "      <th>0</th>\n",
       "      <td>4007278</td>\n",
       "      <td>krzysiek</td>\n",
       "      <td>True</td>\n",
       "      <td>0.9</td>\n",
       "      <td>My mother will definitely be happy as it is fo...</td>\n",
       "      <td>NaN</td>\n",
       "      <td>NaN</td>\n",
       "      <td>1</td>\n",
       "      <td>7</td>\n",
       "      <td>2016-10-04 14:04:57</td>\n",
       "      <td>2016-09-20 16:02:16</td>\n",
       "    </tr>\n",
       "    <tr>\n",
       "      <th>1</th>\n",
       "      <td>16679184</td>\n",
       "      <td>a...o</td>\n",
       "      <td>True</td>\n",
       "      <td>1.0</td>\n",
       "      <td>I know the Esperanza company, but I haven't us...</td>\n",
       "      <td>NaN</td>\n",
       "      <td>NaN</td>\n",
       "      <td>0</td>\n",
       "      <td>0</td>\n",
       "      <td>2022-10-26 18:10:40</td>\n",
       "      <td>2022-10-22 17:30:51</td>\n",
       "    </tr>\n",
       "    <tr>\n",
       "      <th>2</th>\n",
       "      <td>13986455</td>\n",
       "      <td>j...g</td>\n",
       "      <td>True</td>\n",
       "      <td>0.8</td>\n",
       "      <td>Easy to use, aesthetic and quality adequate to...</td>\n",
       "      <td>NaN</td>\n",
       "      <td>NaN</td>\n",
       "      <td>2</td>\n",
       "      <td>0</td>\n",
       "      <td>2021-02-19 11:42:46</td>\n",
       "      <td>2021-02-16 10:15:28</td>\n",
       "    </tr>\n",
       "    <tr>\n",
       "      <th>3</th>\n",
       "      <td>13932658</td>\n",
       "      <td>z...t</td>\n",
       "      <td>True</td>\n",
       "      <td>0.8</td>\n",
       "      <td>It looks nice, a little less when it comes to ...</td>\n",
       "      <td>NaN</td>\n",
       "      <td>NaN</td>\n",
       "      <td>0</td>\n",
       "      <td>0</td>\n",
       "      <td>2021-02-10 21:26:46</td>\n",
       "      <td>2021-01-31 10:48:38</td>\n",
       "    </tr>\n",
       "    <tr>\n",
       "      <th>4</th>\n",
       "      <td>3832821</td>\n",
       "      <td>Użytkownik Ceneo</td>\n",
       "      <td>True</td>\n",
       "      <td>0.8</td>\n",
       "      <td>Apart from the main operation of the device, I...</td>\n",
       "      <td>NaN</td>\n",
       "      <td>NaN</td>\n",
       "      <td>1</td>\n",
       "      <td>4</td>\n",
       "      <td>2016-07-19 20:07:17</td>\n",
       "      <td>2016-06-24 18:33:57</td>\n",
       "    </tr>\n",
       "    <tr>\n",
       "      <th>5</th>\n",
       "      <td>10101347</td>\n",
       "      <td>Maria</td>\n",
       "      <td>True</td>\n",
       "      <td>1.0</td>\n",
       "      <td>I recommend</td>\n",
       "      <td>NaN</td>\n",
       "      <td>NaN</td>\n",
       "      <td>0</td>\n",
       "      <td>1</td>\n",
       "      <td>2019-02-14 17:34:36</td>\n",
       "      <td>2019-02-03 18:17:53</td>\n",
       "    </tr>\n",
       "    <tr>\n",
       "      <th>6</th>\n",
       "      <td>14137997</td>\n",
       "      <td>Janusz</td>\n",
       "      <td>True</td>\n",
       "      <td>0.8</td>\n",
       "      <td>A set for grating vegetables would be useful.</td>\n",
       "      <td>NaN</td>\n",
       "      <td>NaN</td>\n",
       "      <td>0</td>\n",
       "      <td>0</td>\n",
       "      <td>2021-03-18 10:39:19</td>\n",
       "      <td>2021-02-26 17:17:08</td>\n",
       "    </tr>\n",
       "    <tr>\n",
       "      <th>7</th>\n",
       "      <td>10388500</td>\n",
       "      <td>Użytkownik Ceneo</td>\n",
       "      <td>False</td>\n",
       "      <td>0.1</td>\n",
       "      <td>It is probably clogged due to unstable mountin...</td>\n",
       "      <td>NaN</td>\n",
       "      <td>NaN</td>\n",
       "      <td>3</td>\n",
       "      <td>3</td>\n",
       "      <td>2019-04-12 12:34:56</td>\n",
       "      <td>None</td>\n",
       "    </tr>\n",
       "    <tr>\n",
       "      <th>8</th>\n",
       "      <td>6417635</td>\n",
       "      <td>Użytkownik Ceneo</td>\n",
       "      <td>False</td>\n",
       "      <td>0.3</td>\n",
       "      <td>I bought it in a Kaufland store for PLN 99, I ...</td>\n",
       "      <td>NaN</td>\n",
       "      <td>NaN</td>\n",
       "      <td>1</td>\n",
       "      <td>1</td>\n",
       "      <td>2017-12-31 14:00:46</td>\n",
       "      <td>None</td>\n",
       "    </tr>\n",
       "    <tr>\n",
       "      <th>9</th>\n",
       "      <td>12583411</td>\n",
       "      <td>jbruns</td>\n",
       "      <td>False</td>\n",
       "      <td>0.5</td>\n",
       "      <td>The so-called product economy class. It does w...</td>\n",
       "      <td>NaN</td>\n",
       "      <td>NaN</td>\n",
       "      <td>1</td>\n",
       "      <td>1</td>\n",
       "      <td>2020-06-03 23:46:59</td>\n",
       "      <td>2020-05-17 22:32:29</td>\n",
       "    </tr>\n",
       "  </tbody>\n",
       "</table>\n",
       "</div>"
      ],
      "text/plain": [
       "   opinion_id            author  recommendation  score  \\\n",
       "0     4007278          krzysiek            True    0.9   \n",
       "1    16679184             a...o            True    1.0   \n",
       "2    13986455             j...g            True    0.8   \n",
       "3    13932658             z...t            True    0.8   \n",
       "4     3832821  Użytkownik Ceneo            True    0.8   \n",
       "5    10101347             Maria            True    1.0   \n",
       "6    14137997            Janusz            True    0.8   \n",
       "7    10388500  Użytkownik Ceneo           False    0.1   \n",
       "8     6417635  Użytkownik Ceneo           False    0.3   \n",
       "9    12583411            jbruns           False    0.5   \n",
       "\n",
       "                                             content  pros  cons  helpful  \\\n",
       "0  My mother will definitely be happy as it is fo...   NaN   NaN        1   \n",
       "1  I know the Esperanza company, but I haven't us...   NaN   NaN        0   \n",
       "2  Easy to use, aesthetic and quality adequate to...   NaN   NaN        2   \n",
       "3  It looks nice, a little less when it comes to ...   NaN   NaN        0   \n",
       "4  Apart from the main operation of the device, I...   NaN   NaN        1   \n",
       "5                                        I recommend   NaN   NaN        0   \n",
       "6      A set for grating vegetables would be useful.   NaN   NaN        0   \n",
       "7  It is probably clogged due to unstable mountin...   NaN   NaN        3   \n",
       "8  I bought it in a Kaufland store for PLN 99, I ...   NaN   NaN        1   \n",
       "9  The so-called product economy class. It does w...   NaN   NaN        1   \n",
       "\n",
       "   unhelpful         publish_date        purchase_date  \n",
       "0          7  2016-10-04 14:04:57  2016-09-20 16:02:16  \n",
       "1          0  2022-10-26 18:10:40  2022-10-22 17:30:51  \n",
       "2          0  2021-02-19 11:42:46  2021-02-16 10:15:28  \n",
       "3          0  2021-02-10 21:26:46  2021-01-31 10:48:38  \n",
       "4          4  2016-07-19 20:07:17  2016-06-24 18:33:57  \n",
       "5          1  2019-02-14 17:34:36  2019-02-03 18:17:53  \n",
       "6          0  2021-03-18 10:39:19  2021-02-26 17:17:08  \n",
       "7          3  2019-04-12 12:34:56                 None  \n",
       "8          1  2017-12-31 14:00:46                 None  \n",
       "9          1  2020-06-03 23:46:59  2020-05-17 22:32:29  "
      ]
     },
     "execution_count": 36,
     "metadata": {},
     "output_type": "execute_result"
    }
   ],
   "source": [
    "opinions"
   ]
  },
  {
   "cell_type": "markdown",
   "metadata": {},
   "source": [
    "## Basic statistics"
   ]
  },
  {
   "cell_type": "code",
   "execution_count": 57,
   "metadata": {},
   "outputs": [],
   "source": [
    "opinions_count = len(opinions)\n",
    "pros_count = opinions.pros.apply(lambda p: None if not p else p).count()\n",
    "cons_count = opinions.cons.apply(lambda c: None if not c else c).count()\n",
    "average_score = opinions.score.mean()*5"
   ]
  },
  {
   "cell_type": "markdown",
   "metadata": {},
   "source": [
    "## BASIC CHARTS\n"
   ]
  },
  {
   "cell_type": "markdown",
   "metadata": {},
   "source": [
    "## Score hostogram"
   ]
  },
  {
   "cell_type": "code",
   "execution_count": 62,
   "metadata": {},
   "outputs": [
    {
     "data": {
      "text/plain": [
       "<Axes: xlabel='score'>"
      ]
     },
     "execution_count": 62,
     "metadata": {},
     "output_type": "execute_result"
    },
    {
     "data": {
      "image/png": "[encoded data removed]",
      "text/plain": [
       "<Figure size 640x480 with 1 Axes>"
      ]
     },
     "metadata": {},
     "output_type": "display_data"
    }
   ],
   "source": [
    "score_distribution = opinions.score.value_counts()\n",
    "score_distribution.plot.bar()"
   ]
  }
 ],
 "metadata": {
  "kernelspec": {
   "display_name": ".venv",
   "language": "python",
   "name": "python3"
  },
  "language_info": {
   "codemirror_mode": {
    "name": "ipython",
    "version": 3
   },
   "file_extension": ".py",
   "mimetype": "text/x-python",
   "name": "python",
   "nbconvert_exporter": "python",
   "pygments_lexer": "ipython3",
   "version": "3.11.4"
  }
 },
 "nbformat": 4,
 "nbformat_minor": 2
}
